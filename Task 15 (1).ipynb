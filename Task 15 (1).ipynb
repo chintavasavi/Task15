{
 "cells": [
  {
   "cell_type": "markdown",
   "id": "da570655",
   "metadata": {},
   "source": [
    "Task 1: Leap Year Checker\n",
    "\n",
    "Write a program that takes a year as input and determines whether it is a leap year or not. A leap year is a year that is divisible by 4, but not divisible by 100, unless it is also divisible by 400. Display an appropriate message indicating whether the year is a leap year or not."
   ]
  },
  {
   "cell_type": "markdown",
   "id": "b934554c",
   "metadata": {},
   "source": [
    "Normal Function"
   ]
  },
  {
   "cell_type": "code",
   "execution_count": 3,
   "id": "e9bfc6aa",
   "metadata": {},
   "outputs": [
    {
     "name": "stdout",
     "output_type": "stream",
     "text": [
      "Enter a year :: 1994\n",
      "It is not leap year\n"
     ]
    }
   ],
   "source": [
    "def leap(year):\n",
    "    if (year%4 == 0) and (year%100 !=0):\n",
    "        print(\"It is a leap year\")\n",
    "    else:\n",
    "        print(\"It is not leap year\")\n",
    "        \n",
    "year = int(input(\"Enter a year :: \"))\n",
    "leap(year)"
   ]
  },
  {
   "cell_type": "markdown",
   "id": "41f344b7",
   "metadata": {},
   "source": [
    "lambda function"
   ]
  },
  {
   "cell_type": "code",
   "execution_count": 4,
   "id": "bbd0898e",
   "metadata": {},
   "outputs": [],
   "source": [
    "c = lambda year : (year%4==0) and (year%100!=0)"
   ]
  },
  {
   "cell_type": "code",
   "execution_count": 6,
   "id": "4e351f70",
   "metadata": {},
   "outputs": [
    {
     "name": "stdout",
     "output_type": "stream",
     "text": [
      "enter the year ::1996\n",
      "it is a leap year\n"
     ]
    }
   ],
   "source": [
    "year = int(input(\"enter the year ::\"))\n",
    "c(year)\n",
    "if c(year) == True:\n",
    "    print(\"it is a leap year\")\n",
    "else:\n",
    "        print(\"it is not leap year\")"
   ]
  },
  {
   "cell_type": "markdown",
   "id": "837248b5",
   "metadata": {},
   "source": [
    "Map function"
   ]
  },
  {
   "cell_type": "code",
   "execution_count": 2,
   "id": "82613420",
   "metadata": {},
   "outputs": [
    {
     "name": "stdout",
     "output_type": "stream",
     "text": [
      "It is a leap year\n",
      "It is not a leap year\n",
      "It is a leap year\n",
      "It is not a leap year\n",
      "It is not a leap year\n"
     ]
    }
   ],
   "source": [
    "num = [2020,2022,2024,2025,2026]\n",
    "def func(year):\n",
    "    if (year%4==0) and(year%100!=0):\n",
    "        print(\"It is a leap year\")\n",
    "    else:\n",
    "        print(\"It is not a leap year\")\n",
    "new = list(map(func,num))"
   ]
  },
  {
   "cell_type": "markdown",
   "id": "75191806",
   "metadata": {},
   "source": [
    "Filter function"
   ]
  },
  {
   "cell_type": "code",
   "execution_count": 5,
   "id": "09b7c391",
   "metadata": {},
   "outputs": [],
   "source": [
    "num1= [2021,2022,2023,2024,2025]\n",
    "def fun(year):\n",
    "    if (year%4==0) and (year%100 != 0) or (year%400==0):\n",
    "        return \"Leap year\"\n",
    "    else:\n",
    "        return \"Not a leap year\"\n",
    "new= list(map(fun,num1))"
   ]
  },
  {
   "cell_type": "code",
   "execution_count": 6,
   "id": "c7b5932b",
   "metadata": {},
   "outputs": [
    {
     "data": {
      "text/plain": [
       "['Not a leap year',\n",
       " 'Not a leap year',\n",
       " 'Not a leap year',\n",
       " 'Leap year',\n",
       " 'Not a leap year']"
      ]
     },
     "execution_count": 6,
     "metadata": {},
     "output_type": "execute_result"
    }
   ],
   "source": [
    "new"
   ]
  },
  {
   "cell_type": "markdown",
   "id": "10af6e98",
   "metadata": {},
   "source": [
    "Task 2: Grade Calculator\n",
    "\n",
    "Write a program that takes a student's score as input (out of 100) and determines their grade based on the following conditions: If the score is 90 or above, the grade is 'A'. If the score is between 80 and 89, the grade is 'B'. If the score is between 70 and 79, the grade is 'C'. If the score is between 60 and 69, the grade is 'D'. If the score is below 60, the grade is 'F'. Display the grade corresponding to the entered score."
   ]
  },
  {
   "cell_type": "code",
   "execution_count": 5,
   "id": "9edd6b85",
   "metadata": {},
   "outputs": [
    {
     "name": "stdout",
     "output_type": "stream",
     "text": [
      "Enter the marks obtained :: 75\n",
      "C Grade\n"
     ]
    }
   ],
   "source": [
    "def grade(score):\n",
    "    \n",
    "    if (score >= 90) and (score <= 100):\n",
    "        print(\"A Grade \")\n",
    "    elif (score >= 80) and (score < 90):\n",
    "        print(\"B Grade\")\n",
    "    elif(score >= 70) and (score < 80):\n",
    "        print(\"C Grade\")\n",
    "    elif(score >= 60) and (score < 70):\n",
    "        print(\"D Grade\")\n",
    "    elif(score < 0) and (score > 100):\n",
    "        print(\"Invalid , Enter the marks between 0-100\")\n",
    "    else:\n",
    "        print(\"Fail\")\n",
    "num = int(input(\"Enter the marks obtained :: \"))\n",
    "grade(num)"
   ]
  },
  {
   "cell_type": "markdown",
   "id": "d9ebe2a3",
   "metadata": {},
   "source": [
    "Task 3:\n",
    "Calculator Write a program that takes two numbers as input and performs a mathematical operation (+, -, *, /) based on the user's choice. Use a conditional statement to determine the operation to be performed. Display the result of the calculation."
   ]
  },
  {
   "cell_type": "code",
   "execution_count": 7,
   "id": "30892f81",
   "metadata": {},
   "outputs": [
    {
     "name": "stdout",
     "output_type": "stream",
     "text": [
      "enter num1 : 15\n",
      "enter num2 : 16\n",
      "select operations from Addition,subtraction,multiplication,division\n",
      "Enter operation type :: Addition\n",
      "Addition :  31\n"
     ]
    }
   ],
   "source": [
    "num1 = int(input(\"enter num1 : \"))\n",
    "num2 = int(input(\"enter num2 : \"))\n",
    "\n",
    "print(\"\"\"select operations from Addition,subtraction,multiplication,division\"\"\")\n",
    "operation = input(\"Enter operation type :: \")\n",
    "\n",
    "if (operation == 'Addition'):\n",
    "    print(\"Addition : \",num1+num2)\n",
    "elif(operation == \"Subtraction\"):\n",
    "    print(\"subtraction : \",num1-num2)\n",
    "elif(Operation == \"multiplication\"):\n",
    "    print(\"multiplication : \" , num1*num2)\n",
    "elif(operation == \"division\"):\n",
    "    print(\"division : \", num1/num2)\n",
    "else:\n",
    "    print(\"it is not valid\")"
   ]
  },
  {
   "cell_type": "markdown",
   "id": "b5c2cb17",
   "metadata": {},
   "source": [
    "Task 4:\n",
    "Reverse String Write a Python function to reverse a string."
   ]
  },
  {
   "cell_type": "code",
   "execution_count": 8,
   "id": "68bb43c4",
   "metadata": {},
   "outputs": [
    {
     "name": "stdout",
     "output_type": "stream",
     "text": [
      "enter a string :: vasavi\n"
     ]
    },
    {
     "data": {
      "text/plain": [
       "'ivasav'"
      ]
     },
     "execution_count": 8,
     "metadata": {},
     "output_type": "execute_result"
    }
   ],
   "source": [
    "str1 = input(\"enter a string :: \")\n",
    "def reverse(str1):\n",
    "    return str1[::-1]\n",
    "reverse(str1)"
   ]
  },
  {
   "cell_type": "code",
   "execution_count": 9,
   "id": "f1063dcc",
   "metadata": {},
   "outputs": [
    {
     "data": {
      "text/plain": [
       "'nohtyp'"
      ]
     },
     "execution_count": 9,
     "metadata": {},
     "output_type": "execute_result"
    }
   ],
   "source": [
    "# Lambda function\n",
    "\n",
    "a = lambda str1 : str2[::-1]\n",
    "reverse(\"python\")"
   ]
  },
  {
   "cell_type": "code",
   "execution_count": 11,
   "id": "087d30b2",
   "metadata": {},
   "outputs": [
    {
     "data": {
      "text/plain": [
       "['inaN', 'jaR', 'inuoM']"
      ]
     },
     "execution_count": 11,
     "metadata": {},
     "output_type": "execute_result"
    }
   ],
   "source": [
    "#Map function\n",
    "\n",
    "string = [\"Nani\",\"Raj\",\"Mouni\"]\n",
    "def reverse(n):\n",
    "    return n[::-1]\n",
    "list1 = list(map(reverse,string))\n",
    "list1"
   ]
  },
  {
   "cell_type": "markdown",
   "id": "29bd12e2",
   "metadata": {},
   "source": [
    "Task 5:\n",
    "Palindrome Write a Python function that checks whether a passed string is a palindrome or not."
   ]
  },
  {
   "cell_type": "code",
   "execution_count": 13,
   "id": "62529dd8",
   "metadata": {},
   "outputs": [
    {
     "name": "stdout",
     "output_type": "stream",
     "text": [
      "enter a string :: madam\n"
     ]
    },
    {
     "data": {
      "text/plain": [
       "'It is a palindrome'"
      ]
     },
     "execution_count": 13,
     "metadata": {},
     "output_type": "execute_result"
    }
   ],
   "source": [
    "def palindrome(n):\n",
    "    if (n==n[-1::-1]):\n",
    "        return \"It is a palindrome\"\n",
    "    else:\n",
    "        return \"It is not a palindrome\"\n",
    "n = input(\"enter a string :: \")\n",
    "palindrome(n)"
   ]
  },
  {
   "cell_type": "markdown",
   "id": "6e65d5f3",
   "metadata": {},
   "source": [
    "Task 6:\n",
    "Counting Write a Python function that accepts a string and counts the number of upper and lower case letters."
   ]
  },
  {
   "cell_type": "code",
   "execution_count": 28,
   "id": "9a6877b9",
   "metadata": {},
   "outputs": [
    {
     "name": "stdout",
     "output_type": "stream",
     "text": [
      "Enter a string : Innomatics Research Labs\n",
      "Number of upper case letters are ::  3\n",
      "Number of lower case letters are ::  21\n"
     ]
    }
   ],
   "source": [
    "def func(string):\n",
    "    Upper = ['A','B','C','D','E','F','G','H','I','J','K','L','M','N','O','P','Q','R','S','T','U','V','W','X','Y','Z']\n",
    "    LOWER = ['a','b','c','d','e','f','g','h','i','j','k','l','m','n','o','p','q','r','s','t','u','v','w','x','y','z']\n",
    "    count_Upper = []\n",
    "    count_Lower = []\n",
    "    \n",
    "    for i in string:\n",
    "        if i in Upper:\n",
    "            count_Upper.append(i)\n",
    "        else:\n",
    "            count_Lower.append(i)\n",
    "            \n",
    "    print(f\"Number of upper case letters are :: \",len(count_Upper))\n",
    "    print(f\"Number of lower case letters are :: \",len(count_Lower))\n",
    "count = input(\"Enter a string : \")\n",
    "func(count)"
   ]
  },
  {
   "cell_type": "code",
   "execution_count": null,
   "id": "e913b4b4",
   "metadata": {},
   "outputs": [],
   "source": []
  }
 ],
 "metadata": {
  "kernelspec": {
   "display_name": "Python 3 (ipykernel)",
   "language": "python",
   "name": "python3"
  },
  "language_info": {
   "codemirror_mode": {
    "name": "ipython",
    "version": 3
   },
   "file_extension": ".py",
   "mimetype": "text/x-python",
   "name": "python",
   "nbconvert_exporter": "python",
   "pygments_lexer": "ipython3",
   "version": "3.11.4"
  }
 },
 "nbformat": 4,
 "nbformat_minor": 5
}
